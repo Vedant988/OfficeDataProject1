{
 "cells": [
  {
   "cell_type": "markdown",
   "id": "651355b8",
   "metadata": {},
   "source": [
    "# Data For Office"
   ]
  },
  {
   "cell_type": "code",
   "execution_count": 44,
   "id": "bd418e66",
   "metadata": {},
   "outputs": [],
   "source": [
    "import pandas as pd\n",
    "import matplotlib.pyplot as plt\n",
    "path = \"C:/Users/vedan/Downloads/MyOfficeDemoData.csv\" \n",
    "# Always Use a forward slash to set path beacuse \\ is used for escape character in string \n",
    "# Example: \\n \\t\n",
    "df = pd.read_csv(path)\n",
    "#Reading excel file in Jupyter Notebook..done\n"
   ]
  },
  {
   "cell_type": "markdown",
   "id": "c82e023b",
   "metadata": {},
   "source": [
    "## Random generated Data with dd-mm-yyy format"
   ]
  },
  {
   "cell_type": "code",
   "execution_count": 15,
   "id": "73c403dd",
   "metadata": {},
   "outputs": [
    {
     "data": {
      "text/html": [
       "<div>\n",
       "<style scoped>\n",
       "    .dataframe tbody tr th:only-of-type {\n",
       "        vertical-align: middle;\n",
       "    }\n",
       "\n",
       "    .dataframe tbody tr th {\n",
       "        vertical-align: top;\n",
       "    }\n",
       "\n",
       "    .dataframe thead th {\n",
       "        text-align: right;\n",
       "    }\n",
       "</style>\n",
       "<table border=\"1\" class=\"dataframe\">\n",
       "  <thead>\n",
       "    <tr style=\"text-align: right;\">\n",
       "      <th></th>\n",
       "      <th>id</th>\n",
       "      <th>firstname</th>\n",
       "      <th>lastname</th>\n",
       "      <th>email</th>\n",
       "      <th>Date of joining</th>\n",
       "      <th>City of Work</th>\n",
       "      <th>Salery</th>\n",
       "    </tr>\n",
       "  </thead>\n",
       "  <tbody>\n",
       "    <tr>\n",
       "      <th>0</th>\n",
       "      <td>100</td>\n",
       "      <td>Stacey</td>\n",
       "      <td>Shields</td>\n",
       "      <td>Stacey.Shields@yopmail.com</td>\n",
       "      <td>15-05-2006</td>\n",
       "      <td>Ulan Bator</td>\n",
       "      <td>76474</td>\n",
       "    </tr>\n",
       "    <tr>\n",
       "      <th>1</th>\n",
       "      <td>101</td>\n",
       "      <td>Daphne</td>\n",
       "      <td>Slifka</td>\n",
       "      <td>Daphne.Slifka@yopmail.com</td>\n",
       "      <td>02-07-2010</td>\n",
       "      <td>Saint-Denis</td>\n",
       "      <td>42069</td>\n",
       "    </tr>\n",
       "    <tr>\n",
       "      <th>2</th>\n",
       "      <td>102</td>\n",
       "      <td>Michaelina</td>\n",
       "      <td>Fink</td>\n",
       "      <td>Michaelina.Fink@yopmail.com</td>\n",
       "      <td>12-04-2001</td>\n",
       "      <td>Marrakech</td>\n",
       "      <td>76364</td>\n",
       "    </tr>\n",
       "    <tr>\n",
       "      <th>3</th>\n",
       "      <td>103</td>\n",
       "      <td>Kittie</td>\n",
       "      <td>Killigrew</td>\n",
       "      <td>Kittie.Killigrew@yopmail.com</td>\n",
       "      <td>05-11-2014</td>\n",
       "      <td>Blantyre</td>\n",
       "      <td>99525</td>\n",
       "    </tr>\n",
       "    <tr>\n",
       "      <th>4</th>\n",
       "      <td>104</td>\n",
       "      <td>Tressa</td>\n",
       "      <td>Loring</td>\n",
       "      <td>Tressa.Loring@yopmail.com</td>\n",
       "      <td>18-07-2013</td>\n",
       "      <td>Tunis</td>\n",
       "      <td>65102</td>\n",
       "    </tr>\n",
       "    <tr>\n",
       "      <th>...</th>\n",
       "      <td>...</td>\n",
       "      <td>...</td>\n",
       "      <td>...</td>\n",
       "      <td>...</td>\n",
       "      <td>...</td>\n",
       "      <td>...</td>\n",
       "      <td>...</td>\n",
       "    </tr>\n",
       "    <tr>\n",
       "      <th>95</th>\n",
       "      <td>195</td>\n",
       "      <td>Danny</td>\n",
       "      <td>Chauncey</td>\n",
       "      <td>Danny.Chauncey@yopmail.com</td>\n",
       "      <td>24-01-2013</td>\n",
       "      <td>Ashgabat</td>\n",
       "      <td>88372</td>\n",
       "    </tr>\n",
       "    <tr>\n",
       "      <th>96</th>\n",
       "      <td>196</td>\n",
       "      <td>Cathie</td>\n",
       "      <td>Alrich</td>\n",
       "      <td>Cathie.Alrich@yopmail.com</td>\n",
       "      <td>04-03-2015</td>\n",
       "      <td>Basra</td>\n",
       "      <td>52091</td>\n",
       "    </tr>\n",
       "    <tr>\n",
       "      <th>97</th>\n",
       "      <td>197</td>\n",
       "      <td>Lulita</td>\n",
       "      <td>Sheedy</td>\n",
       "      <td>Lulita.Sheedy@yopmail.com</td>\n",
       "      <td>21-05-2006</td>\n",
       "      <td>Recife</td>\n",
       "      <td>85985</td>\n",
       "    </tr>\n",
       "    <tr>\n",
       "      <th>98</th>\n",
       "      <td>198</td>\n",
       "      <td>Ulrike</td>\n",
       "      <td>Monk</td>\n",
       "      <td>Ulrike.Monk@yopmail.com</td>\n",
       "      <td>22-01-2000</td>\n",
       "      <td>Kano</td>\n",
       "      <td>43974</td>\n",
       "    </tr>\n",
       "    <tr>\n",
       "      <th>99</th>\n",
       "      <td>199</td>\n",
       "      <td>Alia</td>\n",
       "      <td>Love</td>\n",
       "      <td>Alia.Love@yopmail.com</td>\n",
       "      <td>10-06-2005</td>\n",
       "      <td>Hanga Roa</td>\n",
       "      <td>85283</td>\n",
       "    </tr>\n",
       "  </tbody>\n",
       "</table>\n",
       "<p>100 rows × 7 columns</p>\n",
       "</div>"
      ],
      "text/plain": [
       "     id   firstname   lastname                         email Date of joining  \\\n",
       "0   100      Stacey    Shields    Stacey.Shields@yopmail.com      15-05-2006   \n",
       "1   101      Daphne     Slifka     Daphne.Slifka@yopmail.com      02-07-2010   \n",
       "2   102  Michaelina       Fink   Michaelina.Fink@yopmail.com      12-04-2001   \n",
       "3   103      Kittie  Killigrew  Kittie.Killigrew@yopmail.com      05-11-2014   \n",
       "4   104      Tressa     Loring     Tressa.Loring@yopmail.com      18-07-2013   \n",
       "..  ...         ...        ...                           ...             ...   \n",
       "95  195       Danny   Chauncey    Danny.Chauncey@yopmail.com      24-01-2013   \n",
       "96  196      Cathie     Alrich     Cathie.Alrich@yopmail.com      04-03-2015   \n",
       "97  197      Lulita     Sheedy     Lulita.Sheedy@yopmail.com      21-05-2006   \n",
       "98  198      Ulrike       Monk       Ulrike.Monk@yopmail.com      22-01-2000   \n",
       "99  199        Alia       Love         Alia.Love@yopmail.com      10-06-2005   \n",
       "\n",
       "   City of Work  Salery  \n",
       "0    Ulan Bator   76474  \n",
       "1   Saint-Denis   42069  \n",
       "2     Marrakech   76364  \n",
       "3      Blantyre   99525  \n",
       "4         Tunis   65102  \n",
       "..          ...     ...  \n",
       "95     Ashgabat   88372  \n",
       "96        Basra   52091  \n",
       "97       Recife   85985  \n",
       "98         Kano   43974  \n",
       "99    Hanga Roa   85283  \n",
       "\n",
       "[100 rows x 7 columns]"
      ]
     },
     "execution_count": 15,
     "metadata": {},
     "output_type": "execute_result"
    }
   ],
   "source": [
    "df"
   ]
  },
  {
   "cell_type": "markdown",
   "id": "2a3d20d1",
   "metadata": {},
   "source": [
    "---"
   ]
  },
  {
   "cell_type": "markdown",
   "id": "119e4fa9",
   "metadata": {},
   "source": [
    "# Creating graph of the number of people joined in Specific year"
   ]
  },
  {
   "cell_type": "markdown",
   "id": "e02eab0e",
   "metadata": {},
   "source": [
    "###  For this we have to make another column of the year they joined..."
   ]
  },
  {
   "cell_type": "code",
   "execution_count": 24,
   "id": "3dc0142d",
   "metadata": {},
   "outputs": [],
   "source": [
    "# This can be done by Excel \n",
    "# so basically in new column you can write *\" =YEAR(A1) \"* here A1 was the location of date!!!\n",
    "# ( Advice to use Flash Fill to fill other rows of the same column )"
   ]
  },
  {
   "cell_type": "code",
   "execution_count": 25,
   "id": "5aad7297",
   "metadata": {},
   "outputs": [
    {
     "data": {
      "text/html": [
       "<div>\n",
       "<style scoped>\n",
       "    .dataframe tbody tr th:only-of-type {\n",
       "        vertical-align: middle;\n",
       "    }\n",
       "\n",
       "    .dataframe tbody tr th {\n",
       "        vertical-align: top;\n",
       "    }\n",
       "\n",
       "    .dataframe thead th {\n",
       "        text-align: right;\n",
       "    }\n",
       "</style>\n",
       "<table border=\"1\" class=\"dataframe\">\n",
       "  <thead>\n",
       "    <tr style=\"text-align: right;\">\n",
       "      <th></th>\n",
       "      <th>id</th>\n",
       "      <th>firstname</th>\n",
       "      <th>lastname</th>\n",
       "      <th>email</th>\n",
       "      <th>Date of joining</th>\n",
       "      <th>City of Work</th>\n",
       "      <th>Salery</th>\n",
       "      <th>year</th>\n",
       "    </tr>\n",
       "  </thead>\n",
       "  <tbody>\n",
       "    <tr>\n",
       "      <th>0</th>\n",
       "      <td>100</td>\n",
       "      <td>Stacey</td>\n",
       "      <td>Shields</td>\n",
       "      <td>Stacey.Shields@yopmail.com</td>\n",
       "      <td>15-05-2006</td>\n",
       "      <td>Ulan Bator</td>\n",
       "      <td>76474</td>\n",
       "      <td>2006</td>\n",
       "    </tr>\n",
       "    <tr>\n",
       "      <th>1</th>\n",
       "      <td>101</td>\n",
       "      <td>Daphne</td>\n",
       "      <td>Slifka</td>\n",
       "      <td>Daphne.Slifka@yopmail.com</td>\n",
       "      <td>02-07-2010</td>\n",
       "      <td>Saint-Denis</td>\n",
       "      <td>42069</td>\n",
       "      <td>2010</td>\n",
       "    </tr>\n",
       "    <tr>\n",
       "      <th>2</th>\n",
       "      <td>102</td>\n",
       "      <td>Michaelina</td>\n",
       "      <td>Fink</td>\n",
       "      <td>Michaelina.Fink@yopmail.com</td>\n",
       "      <td>12-04-2001</td>\n",
       "      <td>Marrakech</td>\n",
       "      <td>76364</td>\n",
       "      <td>2001</td>\n",
       "    </tr>\n",
       "    <tr>\n",
       "      <th>3</th>\n",
       "      <td>103</td>\n",
       "      <td>Kittie</td>\n",
       "      <td>Killigrew</td>\n",
       "      <td>Kittie.Killigrew@yopmail.com</td>\n",
       "      <td>05-11-2014</td>\n",
       "      <td>Blantyre</td>\n",
       "      <td>99525</td>\n",
       "      <td>2014</td>\n",
       "    </tr>\n",
       "    <tr>\n",
       "      <th>4</th>\n",
       "      <td>104</td>\n",
       "      <td>Tressa</td>\n",
       "      <td>Loring</td>\n",
       "      <td>Tressa.Loring@yopmail.com</td>\n",
       "      <td>18-07-2013</td>\n",
       "      <td>Tunis</td>\n",
       "      <td>65102</td>\n",
       "      <td>2013</td>\n",
       "    </tr>\n",
       "    <tr>\n",
       "      <th>...</th>\n",
       "      <td>...</td>\n",
       "      <td>...</td>\n",
       "      <td>...</td>\n",
       "      <td>...</td>\n",
       "      <td>...</td>\n",
       "      <td>...</td>\n",
       "      <td>...</td>\n",
       "      <td>...</td>\n",
       "    </tr>\n",
       "    <tr>\n",
       "      <th>95</th>\n",
       "      <td>195</td>\n",
       "      <td>Danny</td>\n",
       "      <td>Chauncey</td>\n",
       "      <td>Danny.Chauncey@yopmail.com</td>\n",
       "      <td>24-01-2013</td>\n",
       "      <td>Ashgabat</td>\n",
       "      <td>88372</td>\n",
       "      <td>2013</td>\n",
       "    </tr>\n",
       "    <tr>\n",
       "      <th>96</th>\n",
       "      <td>196</td>\n",
       "      <td>Cathie</td>\n",
       "      <td>Alrich</td>\n",
       "      <td>Cathie.Alrich@yopmail.com</td>\n",
       "      <td>04-03-2015</td>\n",
       "      <td>Basra</td>\n",
       "      <td>52091</td>\n",
       "      <td>2015</td>\n",
       "    </tr>\n",
       "    <tr>\n",
       "      <th>97</th>\n",
       "      <td>197</td>\n",
       "      <td>Lulita</td>\n",
       "      <td>Sheedy</td>\n",
       "      <td>Lulita.Sheedy@yopmail.com</td>\n",
       "      <td>21-05-2006</td>\n",
       "      <td>Recife</td>\n",
       "      <td>85985</td>\n",
       "      <td>2006</td>\n",
       "    </tr>\n",
       "    <tr>\n",
       "      <th>98</th>\n",
       "      <td>198</td>\n",
       "      <td>Ulrike</td>\n",
       "      <td>Monk</td>\n",
       "      <td>Ulrike.Monk@yopmail.com</td>\n",
       "      <td>22-01-2000</td>\n",
       "      <td>Kano</td>\n",
       "      <td>43974</td>\n",
       "      <td>2000</td>\n",
       "    </tr>\n",
       "    <tr>\n",
       "      <th>99</th>\n",
       "      <td>199</td>\n",
       "      <td>Alia</td>\n",
       "      <td>Love</td>\n",
       "      <td>Alia.Love@yopmail.com</td>\n",
       "      <td>10-06-2005</td>\n",
       "      <td>Hanga Roa</td>\n",
       "      <td>85283</td>\n",
       "      <td>2005</td>\n",
       "    </tr>\n",
       "  </tbody>\n",
       "</table>\n",
       "<p>100 rows × 8 columns</p>\n",
       "</div>"
      ],
      "text/plain": [
       "     id   firstname   lastname                         email Date of joining  \\\n",
       "0   100      Stacey    Shields    Stacey.Shields@yopmail.com      15-05-2006   \n",
       "1   101      Daphne     Slifka     Daphne.Slifka@yopmail.com      02-07-2010   \n",
       "2   102  Michaelina       Fink   Michaelina.Fink@yopmail.com      12-04-2001   \n",
       "3   103      Kittie  Killigrew  Kittie.Killigrew@yopmail.com      05-11-2014   \n",
       "4   104      Tressa     Loring     Tressa.Loring@yopmail.com      18-07-2013   \n",
       "..  ...         ...        ...                           ...             ...   \n",
       "95  195       Danny   Chauncey    Danny.Chauncey@yopmail.com      24-01-2013   \n",
       "96  196      Cathie     Alrich     Cathie.Alrich@yopmail.com      04-03-2015   \n",
       "97  197      Lulita     Sheedy     Lulita.Sheedy@yopmail.com      21-05-2006   \n",
       "98  198      Ulrike       Monk       Ulrike.Monk@yopmail.com      22-01-2000   \n",
       "99  199        Alia       Love         Alia.Love@yopmail.com      10-06-2005   \n",
       "\n",
       "   City of Work  Salery  year  \n",
       "0    Ulan Bator   76474  2006  \n",
       "1   Saint-Denis   42069  2010  \n",
       "2     Marrakech   76364  2001  \n",
       "3      Blantyre   99525  2014  \n",
       "4         Tunis   65102  2013  \n",
       "..          ...     ...   ...  \n",
       "95     Ashgabat   88372  2013  \n",
       "96        Basra   52091  2015  \n",
       "97       Recife   85985  2006  \n",
       "98         Kano   43974  2000  \n",
       "99    Hanga Roa   85283  2005  \n",
       "\n",
       "[100 rows x 8 columns]"
      ]
     },
     "execution_count": 25,
     "metadata": {},
     "output_type": "execute_result"
    }
   ],
   "source": [
    "#reading Updated csv file !!\n",
    "path = r\"C:/Users/vedan/Downloads/MyOfficeDemoData.csv\"\n",
    "df = pd.read_csv(path)\n",
    "df"
   ]
  },
  {
   "cell_type": "code",
   "execution_count": 34,
   "id": "b9bb229e",
   "metadata": {},
   "outputs": [
    {
     "data": {
      "text/plain": [
       "year\n",
       "2000    60417.571429\n",
       "2001    72772.500000\n",
       "2002    78687.000000\n",
       "2003    63528.333333\n",
       "2004    61648.000000\n",
       "2005    71313.000000\n",
       "2006    72450.571429\n",
       "2007    51747.000000\n",
       "2008    53855.333333\n",
       "2009    73936.333333\n",
       "2010    70605.500000\n",
       "2011    57667.200000\n",
       "2012    64986.125000\n",
       "2013    78296.333333\n",
       "2014    75764.714286\n",
       "2015    77302.500000\n",
       "2016    67898.250000\n",
       "2017    71026.500000\n",
       "2018    60430.500000\n",
       "2019    86262.000000\n",
       "Name: Salery, dtype: float64"
      ]
     },
     "execution_count": 34,
     "metadata": {},
     "output_type": "execute_result"
    }
   ],
   "source": [
    "#creating list to make Data Chart Visualization....\n",
    "df_list = df.groupby(df['year'])['Salery'].mean()\n",
    "df_list"
   ]
  },
  {
   "cell_type": "code",
   "execution_count": 51,
   "id": "f94ba447",
   "metadata": {},
   "outputs": [
    {
     "data": {
      "text/plain": [
       "Text(0, 0.5, 'Avg Salery')"
      ]
     },
     "execution_count": 51,
     "metadata": {},
     "output_type": "execute_result"
    },
    {
     "data": {
      "image/png": "[encoded data removed]",
      "text/plain": [
       "<Figure size 1000x600 with 1 Axes>"
      ]
     },
     "metadata": {},
     "output_type": "display_data"
    }
   ],
   "source": [
    "plt.figure(figsize=(10,6))\n",
    "df_list.plot(kind='bar')\n",
    "plt.xlabel('Years')\n",
    "plt.ylabel('Avg Salery')"
   ]
  },
  {
   "cell_type": "markdown",
   "id": "316ec4d3",
   "metadata": {},
   "source": [
    "# This Shows the Highest Average Salery was In 2019"
   ]
  },
  {
   "cell_type": "markdown",
   "id": "219bef78",
   "metadata": {},
   "source": [
    "---"
   ]
  },
  {
   "cell_type": "markdown",
   "id": "7587f4cc",
   "metadata": {},
   "source": [
    "# Summery"
   ]
  },
  {
   "cell_type": "markdown",
   "id": "cf667f3e",
   "metadata": {},
   "source": [
    "We have read a csv file and then created a seperated year column using EXCEL , made a list using pyhton commands Then we created a data chart of bar using matplotlib.pyplot by code ->"
   ]
  },
  {
   "cell_type": "code",
   "execution_count": 52,
   "id": "af4b2056",
   "metadata": {},
   "outputs": [],
   "source": [
    "# plt.figure(figsize=(10,6))\n",
    "# df_list.plot(kind='bar')\n",
    "# plt.xlabel('Years')\n",
    "# plt.ylabel('Avg Salery')"
   ]
  },
  {
   "cell_type": "markdown",
   "id": "d1a92164",
   "metadata": {},
   "source": [
    "---"
   ]
  },
  {
   "cell_type": "markdown",
   "id": "c0d3d663",
   "metadata": {},
   "source": [
    "# Author"
   ]
  },
  {
   "cell_type": "markdown",
   "id": "ecdf7ec5",
   "metadata": {},
   "source": [
    "Vedant Ganesh Badukale"
   ]
  },
  {
   "cell_type": "markdown",
   "id": "badd23ef",
   "metadata": {},
   "source": [
    "Indian Institute of Information Technology, Nagpur"
   ]
  }
 ],
 "metadata": {
  "kernelspec": {
   "display_name": "Python 3 (ipykernel)",
   "language": "python",
   "name": "python3"
  },
  "language_info": {
   "codemirror_mode": {
    "name": "ipython",
    "version": 3
   },
   "file_extension": ".py",
   "mimetype": "text/x-python",
   "name": "python",
   "nbconvert_exporter": "python",
   "pygments_lexer": "ipython3",
   "version": "3.11.4"
  }
 },
 "nbformat": 4,
 "nbformat_minor": 5
}
